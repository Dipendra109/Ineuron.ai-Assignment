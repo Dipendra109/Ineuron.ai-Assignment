{
 "cells": [
  {
   "cell_type": "code",
   "execution_count": 20,
   "id": "81a10092",
   "metadata": {},
   "outputs": [
    {
     "name": "stdout",
     "output_type": "stream",
     "text": [
      "1. Write a Python Program to find sum of array?\n",
      "Sum of list is 49\n"
     ]
    }
   ],
   "source": [
    "#1. Write a Python Program to find sum of array?\n",
    "print('1. Write a Python Program to find sum of array?') \n",
    "l=[1,3,5,7,9,11,13]  # a array can be considered list in python\n",
    "sum_list=sum(l)\n",
    "print('Sum of list is',sum_list)"
   ]
  },
  {
   "cell_type": "code",
   "execution_count": 28,
   "id": "8cc83f19",
   "metadata": {},
   "outputs": [
    {
     "name": "stdout",
     "output_type": "stream",
     "text": [
      "2. Write a Python Program to find largest element in an array?\n",
      "Largest element in array is 13\n"
     ]
    }
   ],
   "source": [
    "#2. Write a Python Program to find largest element in an array?\n",
    "print('2. Write a Python Program to find largest element in an array?')\n",
    "l=[1,3,5,7,9,11,13]\n",
    "l=max(l[::]) \n",
    "print('Largest element in array is',l)"
   ]
  },
  {
   "cell_type": "code",
   "execution_count": 36,
   "id": "a4efa196",
   "metadata": {},
   "outputs": [
    {
     "name": "stdout",
     "output_type": "stream",
     "text": [
      "3. Write a Python Program for array rotation?\n",
      "Rotated array is \n",
      " [13, 11, 9, 7, 5, 3, 1]\n"
     ]
    }
   ],
   "source": [
    "#3. Write a Python Program for array rotation?\n",
    "print('3. Write a Python Program for array rotation?')\n",
    "l=[1,3,5,7,9,11,13] #original array\n",
    "l=l[::-1] #inverting all elements of an array\n",
    "print('Rotated array is','\\n',l)"
   ]
  },
  {
   "cell_type": "code",
   "execution_count": null,
   "id": "f59e74fd",
   "metadata": {},
   "outputs": [],
   "source": [
    "#4. Write a Python Program to Split the array and add the first part to the end?\n",
    "print('4. Write a Python Program to Split the array and add the first part to the end?')  \n",
    "\n",
    "\n",
    "def splitarray(ar, num, k):\n",
    "    X = ar[:k]\n",
    "    return (ar[k::]+X[::])\n",
    " \n",
    "#main body of code   \n",
    "array = []\n",
    "size_list = int(input('Enter number of elements : '))\n",
    "if size_list==1 :\n",
    "    print('Atleast 2 element is needed')\n",
    "else :    \n",
    "    for i in range(0, size_list) :\n",
    "        element = int(input('Enter an element'))\n",
    "        array.append(element)\n",
    "    print('The enetered array is' , array, end =\" \")\n",
    "num = len(array)\n",
    "div = 2\n",
    "ar = splitarray(array, num, div)\n",
    "#for i in range(0, num):\n",
    "print(' Modifed array is', ar , end=' ')"
   ]
  },
  {
   "cell_type": "code",
   "execution_count": 61,
   "id": "03e6c3d9",
   "metadata": {},
   "outputs": [
    {
     "name": "stdout",
     "output_type": "stream",
     "text": [
      "5. Write a Python Program to check if given array is Monotonic?\n",
      "Enter number of elements : 2\n",
      "Enter an element-3\n",
      "Enter an element-2\n",
      "[-3, -2]\n",
      "List has INCREASING monotonicity\n"
     ]
    }
   ],
   "source": [
    "#5. Write a Python Program to check if given array is Monotonic?\n",
    "print('5. Write a Python Program to check if given array is Monotonic?')\n",
    "lst = []\n",
    "size_list = int(input('Enter number of elements : '))\n",
    "if size_list==1 :\n",
    "    print('Atleast 2 element is needed')\n",
    "else :    \n",
    "    for i in range(0, size_list) :\n",
    "        element = int(input('Enter an element'))\n",
    "        lst.append(element)\n",
    "    print(lst)\n",
    "    \n",
    "    lst_2 =[] \n",
    "    for i in range(1, size_list) :\n",
    "        \n",
    "        lst_2.append(lst[i])\n",
    "        #print(lst_2)  \n",
    "        #print(len(lst_2))\n",
    "        ka=[]\n",
    "    for i in range(0,size_list-1):\n",
    "            #print(lst_2[i]-lst[i])\n",
    "            if lst_2[i]-lst[i] > 0:\n",
    "                ka.append('T')\n",
    "                #print(ka)\n",
    "    if len(ka) == (size_list-1) :        \n",
    "                print('List has INCREASING monotonicity')\n",
    "    else :\n",
    "             print('List has NO monotonicity')\n",
    "     \n",
    "    lst_2 =[] \n",
    "    for i in range(1, size_list) :\n",
    "        lst_2.append(lst[i])\n",
    "        #print(lst_2)  \n",
    "       #print(len(lst_2))\n",
    "        ka=[]\n",
    "    for i in range(0,size_list-1):\n",
    "         #print(lst_2[i]-lst[i])\n",
    "            if lst_2[i]-lst[i] < 0:\n",
    "                ka.append('T')\n",
    "                #print(ka)\n",
    "    if len(ka) == (size_list-1) :\n",
    "        print('List has DECREASING monotonicity')\n",
    "    #else :\n",
    "        # print('List has NO monotonicity')\n",
    "\n",
    "        \n",
    "        \n",
    "\n",
    "        \n",
    "    \n",
    "    \n",
    "        \n"
   ]
  },
  {
   "cell_type": "code",
   "execution_count": null,
   "id": "7a3ede5e",
   "metadata": {},
   "outputs": [],
   "source": []
  }
 ],
 "metadata": {
  "kernelspec": {
   "display_name": "Python 3 (ipykernel)",
   "language": "python",
   "name": "python3"
  },
  "language_info": {
   "codemirror_mode": {
    "name": "ipython",
    "version": 3
   },
   "file_extension": ".py",
   "mimetype": "text/x-python",
   "name": "python",
   "nbconvert_exporter": "python",
   "pygments_lexer": "ipython3",
   "version": "3.9.7"
  }
 },
 "nbformat": 4,
 "nbformat_minor": 5
}

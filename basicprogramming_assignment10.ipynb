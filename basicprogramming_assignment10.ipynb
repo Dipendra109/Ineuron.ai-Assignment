{
 "cells": [
  {
   "cell_type": "code",
   "execution_count": 10,
   "id": "30a2b110",
   "metadata": {},
   "outputs": [
    {
     "name": "stdout",
     "output_type": "stream",
     "text": [
      "1. Write a Python program to find sum of elements in list?\n",
      "What number of elements in list? 5\n",
      "add a number(int or decimal) in list: 1\n",
      "add a number(int or decimal) in list: 1.1\n",
      "add a number(int or decimal) in list: 2.3\n",
      "add a number(int or decimal) in list: 5\n",
      "add a number(int or decimal) in list: 3\n",
      "[1.0, 1.1, 2.3, 5.0, 3.0]\n",
      "Sum of list elements is 12.4\n"
     ]
    }
   ],
   "source": [
    "#1.Write a Python program to find sum of elements in list?\n",
    "print('1. Write a Python program to find sum of elements in list?')\n",
    "itm=int(input('What number of elements in list? '))\n",
    "lst=[]\n",
    "for n in range(itm):\n",
    "    lst.append(float(input('add a number(int or decimal) in list: ')))\n",
    "print(lst)\n",
    "print('Sum of list elements is', sum(lst) )"
   ]
  },
  {
   "cell_type": "code",
   "execution_count": 21,
   "id": "ce25084b",
   "metadata": {},
   "outputs": [
    {
     "name": "stdout",
     "output_type": "stream",
     "text": [
      "2. Write a Python program to  Multiply all numbers in the list?\n",
      "What number of elements in list? 4\n",
      "add a number(int or decimal) in list: 1\n",
      "add a number(int or decimal) in list: 2\n",
      "add a number(int or decimal) in list: 3\n",
      "add a number(int or decimal) in list: 4\n",
      "[1.0, 2.0, 3.0, 4.0]\n",
      "Multiplication of all elements of list is:  24.0\n"
     ]
    }
   ],
   "source": [
    "#2. Write a Python program to  Multiply all numbers in the list?\n",
    "print('2. Write a Python program to  Multiply all numbers in the list?')\n",
    "itm=int(input('What number of elements in list? ')) #asking user to provide length of list\n",
    "lst=[]   # empty list\n",
    "for n in range(itm):\n",
    "    lst.append(float(input('add a number(int or decimal) in list: '))) #asking user to fill list numbers. \n",
    "print(lst) #printing\n",
    "\n",
    "#running for loop to multiply each element of list\n",
    "mul=1   \n",
    "for i in lst :\n",
    "    mul=mul*i\n",
    "print('Multiplication of all elements of list is: ', mul)"
   ]
  },
  {
   "cell_type": "code",
   "execution_count": 27,
   "id": "fa999bd5",
   "metadata": {},
   "outputs": [
    {
     "name": "stdout",
     "output_type": "stream",
     "text": [
      "3. Write a Python program to find smallest number in a list?\n",
      "What number of elements in list? 4\n",
      "add a number(int or decimal) in list: 1\n",
      "add a number(int or decimal) in list: 2\n",
      "add a number(int or decimal) in list: 3\n",
      "add a number(int or decimal) in list: 4\n",
      "[1.0, 2.0, 3.0, 4.0]\n",
      "The smallest number in list is :  1.0\n"
     ]
    }
   ],
   "source": [
    "#3. Write a Python program to find smallest number in a list?\n",
    "print('3. Write a Python program to find smallest number in a list?')\n",
    "itm=int(input('What number of elements in list? ')) #asking user to provide length of list\n",
    "lst=[]   # empty list\n",
    "for n in range(itm):\n",
    "    lst.append(float(input('add a number(int or decimal) in list: '))) #asking user to fill list numbers. \n",
    "print(lst) #printing\n",
    "#finding smallest number in a list\n",
    "#min_num=min(lst)\n",
    "print('The smallest number in list is : ', min(lst))"
   ]
  },
  {
   "cell_type": "code",
   "execution_count": 31,
   "id": "ada94e3b",
   "metadata": {},
   "outputs": [
    {
     "name": "stdout",
     "output_type": "stream",
     "text": [
      "4. Write a Python program to find largest number in a list?\n",
      "What number of elements in list? 3\n",
      "add a number(int or decimal) in list: -1\n",
      "add a number(int or decimal) in list: -2\n",
      "add a number(int or decimal) in list: -3\n",
      "[-1.0, -2.0, -3.0]\n",
      "The smallest number in list is :  -1.0\n"
     ]
    }
   ],
   "source": [
    "#4. Write a Python program to find largest number in a list?\n",
    "print('4. Write a Python program to find largest number in a list?')\n",
    "itm=int(input('What number of elements in list? ')) #asking user to provide length of list\n",
    "lst=[]   # empty list\n",
    "for n in range(itm):\n",
    "    lst.append(float(input('add a number(int or decimal) in list: '))) #asking user to fill list numbers. \n",
    "print(lst) #printing \n",
    "#finding largest number in a list\n",
    "#min_num=max(lst)\n",
    "print('The smallest number in list is : ', max(lst))"
   ]
  },
  {
   "cell_type": "code",
   "execution_count": 57,
   "id": "3af4e7cb",
   "metadata": {},
   "outputs": [
    {
     "name": "stdout",
     "output_type": "stream",
     "text": [
      "5. Write a Python program to find second largest number in a list?\n",
      "What number of elements in list? 5\n",
      "add a number(int or decimal) in list: 1\n",
      "add a number(int or decimal) in list: 2\n",
      "add a number(int or decimal) in list: 3\n",
      "add a number(int or decimal) in list: 4\n",
      "add a number(int or decimal) in list: 5\n",
      "[1.0, 2.0, 3.0, 4.0, 5.0]\n",
      "Secon dLargest number of list is :  4.0\n"
     ]
    }
   ],
   "source": [
    "#5. Write a Python program to find second largest number in a list?\n",
    "print('5. Write a Python program to find second largest number in a list?')\n",
    "itm=int(input('What number of elements in list? ')) #asking user to provide length of list\n",
    "lst=[]   # empty list\n",
    "for n in range(itm):\n",
    "    lst.append(float(input('add a number(int or decimal) in list: '))) #asking user to fill list numbers. \n",
    "print(lst) #printing\n",
    "lst.remove(max(lst))\n",
    "print('Second Largest number of list is : ', max(lst))"
   ]
  },
  {
   "cell_type": "code",
   "execution_count": 78,
   "id": "e6b40fc6",
   "metadata": {},
   "outputs": [
    {
     "name": "stdout",
     "output_type": "stream",
     "text": [
      "6. Write a Python program to find N largest elements from a list?\n",
      "What number of elements in list? 7\n",
      "add a number(int or decimal) in list: 1\n",
      "add a number(int or decimal) in list: -3\n",
      "add a number(int or decimal) in list: -1.5\n",
      "add a number(int or decimal) in list: 4\n",
      "add a number(int or decimal) in list: 2\n",
      "add a number(int or decimal) in list: 8\n",
      "add a number(int or decimal) in list: 10\n",
      "[1.0, -3.0, -1.5, 4.0, 2.0, 8.0, 10.0]\n",
      "[-3.0, -1.5, 1.0, 2.0, 4.0, 8.0, 10.0]\n",
      "How many N largest elements from list you want?. Enter a positive integer number.  3\n",
      "[4.0, 8.0, 10.0]\n"
     ]
    }
   ],
   "source": [
    "#6. Write a Python program to find N largest elements from a list?\n",
    "print('6. Write a Python program to find N largest elements from a list?')\n",
    "itm=int(input('What number of elements in list? ')) #asking user to provide length of list\n",
    "lst=[]   # empty list\n",
    "for n in range(itm):\n",
    "    lst.append(float(input('add a number(int or decimal) in list: '))) #asking user to fill list numbers. \n",
    "print(lst) #printing \n",
    "lst.sort()\n",
    "print(lst) \n",
    "n=int(input('How many N largest elements from list you want?. Enter a positive integer number.  ')) \n",
    "n_large_list = []\n",
    "for i in range(len(lst)-n,len(lst)):\n",
    "    n_large_list.append(lst[i])\n",
    "print(n_large_list)"
   ]
  },
  {
   "cell_type": "code",
   "execution_count": 8,
   "id": "aaf65f67",
   "metadata": {},
   "outputs": [
    {
     "name": "stdout",
     "output_type": "stream",
     "text": [
      "7. Write a Python program to print even numbers in a list?\n",
      "What number of elements in list? 5\n",
      "add a number(int or decimal) in list: 1\n",
      "add a number(int or decimal) in list: 1\n",
      "add a number(int or decimal) in list: 1\n",
      "add a number(int or decimal) in list: 1\n",
      "add a number(int or decimal) in list: 1\n",
      "User input list is :  \n",
      " [1.0, 1.0, 1.0, 1.0, 1.0]\n",
      "List with even numbers is:  \n",
      " []\n"
     ]
    }
   ],
   "source": [
    "#7. Write a Python program to print even numbers in a list?\n",
    "print('7. Write a Python program to print even numbers in a list?') \n",
    "itm=int(input('What number of elements in list? ')) #asking user to provide length of list\n",
    "lst=[]   # empty list\n",
    "for n in range(itm):\n",
    "    lst.append(float(input('add a number(int or decimal) in list: '))) #asking user to fill list numbers. \n",
    "print('User input list is : ', '\\n' , lst) #printing \n",
    "i=0 # beginning iteration for while loop\n",
    "even_list=[] #empty dummy list\n",
    "ano_list=[]  #empty dummy list\n",
    "while i <= (len(lst)-1):\n",
    "    if lst[i]%2 == 0: # condition to check for even numbers\n",
    "        even_list.append(lst[i])\n",
    "    else :  #remaining elements of list\n",
    "        ano_list.append(lst[i])\n",
    "    i=i+1\n",
    "print('List with even numbers is: ', '\\n' , even_list)  #printing list with even number\n",
    "    "
   ]
  },
  {
   "cell_type": "code",
   "execution_count": 10,
   "id": "b9b94828",
   "metadata": {},
   "outputs": [
    {
     "name": "stdout",
     "output_type": "stream",
     "text": [
      "8. Write a Python program to print odd numbers in a List?\n",
      "What number of elements in list? 10\n",
      "add a number(int or decimal) in list: 1\n",
      "add a number(int or decimal) in list: 2\n",
      "add a number(int or decimal) in list: 3\n",
      "add a number(int or decimal) in list: 4\n",
      "add a number(int or decimal) in list: 5\n",
      "add a number(int or decimal) in list: 6\n",
      "add a number(int or decimal) in list: 7\n",
      "add a number(int or decimal) in list: 8\n",
      "add a number(int or decimal) in list: 9\n",
      "add a number(int or decimal) in list: 10\n",
      "User input list is :  \n",
      " [1.0, 2.0, 3.0, 4.0, 5.0, 6.0, 7.0, 8.0, 9.0, 10.0]\n",
      "List with odd numbers is:  \n",
      " [1.0, 3.0, 5.0, 7.0, 9.0]\n"
     ]
    }
   ],
   "source": [
    "#8. Write a Python program to print odd numbers in a List?\n",
    "print('8. Write a Python program to print odd numbers in a List?') \n",
    "itm=int(input('What number of elements in list? ')) #asking user to provide length of list\n",
    "lst=[]   # empty list\n",
    "for n in range(itm):\n",
    "    lst.append(float(input('add a number(int or decimal) in list: '))) #asking user to fill list numbers. \n",
    "print('User input list is : ', '\\n' , lst) #printing \n",
    "i=0 # beginning iteration for while loop\n",
    "odd_list=[] #empty dummy list\n",
    "ano_list=[]  #empty dummy list\n",
    "while i <= (len(lst)-1):\n",
    "    if lst[i]%2 != 0: # condition to check for even numbers\n",
    "        odd_list.append(lst[i])\n",
    "    else :  #remaining elements of list\n",
    "        ano_list.append(lst[i])\n",
    "    i=i+1\n",
    "print('List with odd numbers is: ', '\\n' , odd_list)  #printing list with even number"
   ]
  },
  {
   "cell_type": "code",
   "execution_count": 16,
   "id": "d8bbe3c9",
   "metadata": {},
   "outputs": [
    {
     "name": "stdout",
     "output_type": "stream",
     "text": [
      "[1, 2, 3, 4, [1, 2, 'wer', 'yt', 9], 'dkc']\n"
     ]
    }
   ],
   "source": [
    "#9. Write a Python program to Remove empty List from List?\n",
    "lst=[1,2,3,4,[1,2,'wer','yt',9], [],'dkc', []]\n",
    "for i in lst  :\n",
    "    #print(i)\n",
    "    if i == [] :\n",
    "        lst.remove(i) \n",
    "print(lst)"
   ]
  },
  {
   "cell_type": "code",
   "execution_count": 18,
   "id": "779fdc8d",
   "metadata": {},
   "outputs": [
    {
     "name": "stdout",
     "output_type": "stream",
     "text": [
      "10. Write a Python program to Cloning or Copying a list?\n",
      "What number of elements in list? 4\n",
      "add a number(int or decimal) in list: 1\n",
      "add a number(int or decimal) in list: 2\n",
      "add a number(int or decimal) in list: 3\n",
      "add a number(int or decimal) in list: 4\n",
      "User input list is :  \n",
      " [1.0, 2.0, 3.0, 4.0]\n",
      "Cloned List is  \n",
      " [1.0, 2.0, 3.0, 4.0]\n"
     ]
    }
   ],
   "source": [
    "#10. Write a Python program to Cloning or Copying a list?\n",
    "print('10. Write a Python program to Cloning or Copying a list?')\n",
    "itm=int(input('What number of elements in list? ')) #asking user to provide length of list\n",
    "lst=[]   # empty list\n",
    "for n in range(itm):\n",
    "    lst.append(float(input('add a number(int or decimal) in list: '))) #asking user to fill list numbers. \n",
    "print('User input list is : ', '\\n' , lst) #printing \n",
    "copy_list=[] \n",
    "for i in lst:\n",
    "    copy_list.append(i)\n",
    "print('Cloned List is ', '\\n' , \n",
    "      copy_list)"
   ]
  },
  {
   "cell_type": "code",
   "execution_count": 18,
   "id": "f3c2b7f5",
   "metadata": {},
   "outputs": [
    {
     "name": "stdout",
     "output_type": "stream",
     "text": [
      "11. Write a Python program to Count occurrences of an element in a list?\n",
      "What number of elements in list? 6\n",
      "add a number(int or decimal) in list: 1\n",
      "add a number(int or decimal) in list: 1\n",
      "add a number(int or decimal) in list: 2\n",
      "add a number(int or decimal) in list: 3\n",
      "add a number(int or decimal) in list: 4\n",
      "add a number(int or decimal) in list: 5\n",
      "User input list is :  \n",
      " [1.0, 1.0, 2.0, 3.0, 4.0, 5.0]\n",
      "What do you want to count in list? 100\n",
      "Number of occurences of  100.0 is  0 times\n"
     ]
    }
   ],
   "source": [
    "#11. Write a Python program to Count occurrences of an element in a list?\n",
    "print('11. Write a Python program to Count occurrences of an element in a list?')\n",
    "itm=int(input('What number of elements in list? ')) #asking user to provide length of list\n",
    "lst=[]   # empty list\n",
    "for n in range(itm):\n",
    "    lst.append(float(input('add a number(int or decimal) in list: '))) #asking user to fill list numbers. \n",
    "print('User input list is : ', '\\n' , lst) #printing \n",
    "e= float(input(('What do you want to count in list? ')))\n",
    "#type(e)\n",
    "#type(lst[0]) \n",
    "c=0\n",
    "for i in lst :\n",
    "    #print(i)\n",
    "    #print(type(i))\n",
    "    if str(i) == str(e) :\n",
    "        c=c+1\n",
    "    \n",
    "         \n",
    "print('Number of occurences of ' , e, 'is ' ,c , 'times') "
   ]
  },
  {
   "cell_type": "code",
   "execution_count": 11,
   "id": "18cbc613",
   "metadata": {},
   "outputs": [
    {
     "name": "stdout",
     "output_type": "stream",
     "text": [
      "1\n",
      "2\n"
     ]
    }
   ],
   "source": []
  },
  {
   "cell_type": "code",
   "execution_count": null,
   "id": "498740e2",
   "metadata": {},
   "outputs": [],
   "source": []
  }
 ],
 "metadata": {
  "kernelspec": {
   "display_name": "Python 3 (ipykernel)",
   "language": "python",
   "name": "python3"
  },
  "language_info": {
   "codemirror_mode": {
    "name": "ipython",
    "version": 3
   },
   "file_extension": ".py",
   "mimetype": "text/x-python",
   "name": "python",
   "nbconvert_exporter": "python",
   "pygments_lexer": "ipython3",
   "version": "3.9.7"
  }
 },
 "nbformat": 4,
 "nbformat_minor": 5
}

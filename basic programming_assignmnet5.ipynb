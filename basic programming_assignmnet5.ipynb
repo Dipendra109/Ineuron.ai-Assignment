{
 "cells": [
  {
   "cell_type": "code",
   "execution_count": 5,
   "id": "c42bd737",
   "metadata": {},
   "outputs": [
    {
     "name": "stdout",
     "output_type": "stream",
     "text": [
      "1. Write a Python Program to Find LCM?\n",
      "Enter the first number:45\n",
      "Enter the second number:9\n",
      "LCM is  45\n"
     ]
    }
   ],
   "source": [
    "#1. Write a Python Program to Find LCM?\n",
    "print('1. Write a Python Program to Find LCM?') \n",
    "num1=int(input(\"Enter the first number:\"))\n",
    "num2=int(input(\"Enter the second number:\"))\n",
    "#checking which number is highest in entered numbers\n",
    "if(num1>num2):\n",
    "    p=num1\n",
    "else:\n",
    "    p=num2\n",
    "    \n",
    "while(1): #true condition is there\n",
    "    #if condition to iterate numbers from highest number to check common least factor. \n",
    "    if(p % num1 == 0 and p % num2 == 0):\n",
    "        print('LCM is ',p)\n",
    "        break  #using break condition to terminate look when condition is met. else increase by 1. \n",
    "    p=p+1"
   ]
  },
  {
   "cell_type": "code",
   "execution_count": 1,
   "id": "0aac717d",
   "metadata": {},
   "outputs": [
    {
     "name": "stdout",
     "output_type": "stream",
     "text": [
      "2. Write a Python Program to Find HCF?\n",
      "Enter first number= 67\n",
      "Enter second number= 76\n",
      "HCF of 67 and 76  is 1 .\n"
     ]
    }
   ],
   "source": [
    "#2. Write a Python Program to Find HCF?\n",
    "print('2. Write a Python Program to Find HCF?') \n",
    "num1 = int(input(\"Enter first number= \"))\n",
    "num2 = int(input(\"Enter second number= \"))\n",
    "\n",
    "p = 1 \n",
    "while(p <= num1 and p <= num2): \n",
    "    if(num1 % p == 0 and num2 % p == 0): \n",
    "        hcf = p \n",
    "    p = p + 1\n",
    "\n",
    "print('HCF of', num1, 'and', num2,' is', hcf, '.'.format(num1, num2, hcf))"
   ]
  },
  {
   "cell_type": "code",
   "execution_count": 6,
   "id": "1bba1c24",
   "metadata": {},
   "outputs": [
    {
     "name": "stdout",
     "output_type": "stream",
     "text": [
      "3. Write a Python Program to Convert Decimal to Binary, Octal and Hexadecimal?\n",
      "Enter a number4\n",
      "Binary value is  0b100\n",
      "Octal value is  0o4\n",
      "Hexadecimal value is  0x4\n"
     ]
    }
   ],
   "source": [
    "#3. Write a Python Program to Convert Decimal to Binary, Octal and Hexadecimal?\n",
    "print('3. Write a Python Program to Convert Decimal to Binary, Octal and Hexadecimal?')\n",
    "num = int(input('Enter a number'))\n",
    "binary_1 = bin(num)\n",
    "octal_1 = oct(num)\n",
    "hex_1 = hex(num)\n",
    "print('Binary value is ', binary_1)\n",
    "print('Octal value is ', octal_1)\n",
    "print('Hexadecimal value is ', hex_1)"
   ]
  },
  {
   "cell_type": "code",
   "execution_count": 3,
   "id": "5b1b8894",
   "metadata": {},
   "outputs": [
    {
     "name": "stdout",
     "output_type": "stream",
     "text": [
      "4. Write a Python Program To Find ASCII value of a character?\n",
      "Enter a character: a\n",
      "<class 'str'>\n",
      "97\n",
      "The ASCII value is:  97\n"
     ]
    }
   ],
   "source": [
    "#4.Write a Python Program To Find ASCII value of a character?\n",
    "print('4. Write a Python Program To Find ASCII value of a character?')\n",
    "num = input(\"Enter a character: \").strip()\n",
    "print(type(num))\n",
    "ascii_num = ord(num)\n",
    "print(ascii_num)\n",
    "\n",
    "print(\"The ASCII value is: \",ascii_num)"
   ]
  },
  {
   "cell_type": "code",
   "execution_count": null,
   "id": "0c51d773",
   "metadata": {},
   "outputs": [
    {
     "name": "stdout",
     "output_type": "stream",
     "text": [
      "5. Write a Python Program to Make a Simple Calculator with 4 basic mathematical operations?\n",
      "Choose from following\n",
      "A-Addition\n",
      "S-Subration\n",
      "M-Multiplication\n",
      "D-Division\n",
      "X\n"
     ]
    }
   ],
   "source": [
    "#5. Write a Python Program to Make a Simple Calculator with 4 basic mathematical operations?\n",
    "print('5. Write a Python Program to Make a Simple Calculator with 4 basic mathematical operations?')\n",
    "\n",
    "math_op=input('Choose from following' '\\n' 'A-Addition' '\\n' 'S-Subration' '\\n' 'M-Multiplication' '\\n' 'D-Division' '\\n')\n",
    "num1= float(input('Enter first number'))\n",
    "num2= float(input('Enter Second Number'))\n",
    "if math_op== 'A' :\n",
    "    x=num1+num2\n",
    "    print('Addition is ',format(x))\n",
    "elif math_op == 'S':\n",
    "    x=num1-num2\n",
    "    print('Subtraction is ',format(x))\n",
    "elif math_op == 'M':\n",
    "    x=num1*num2\n",
    "    print('Multiplication is ', format(x))\n",
    "elif math_op == 'D' :\n",
    "    x=num1/num2\n",
    "    print('Division is ', format(x))\n",
    "else :\n",
    "    print('Please recheck your math operation selection')\n",
    "    \n"
   ]
  },
  {
   "cell_type": "code",
   "execution_count": null,
   "id": "c88bc6d6",
   "metadata": {},
   "outputs": [],
   "source": []
  }
 ],
 "metadata": {
  "kernelspec": {
   "display_name": "Python 3 (ipykernel)",
   "language": "python",
   "name": "python3"
  },
  "language_info": {
   "codemirror_mode": {
    "name": "ipython",
    "version": 3
   },
   "file_extension": ".py",
   "mimetype": "text/x-python",
   "name": "python",
   "nbconvert_exporter": "python",
   "pygments_lexer": "ipython3",
   "version": "3.9.7"
  }
 },
 "nbformat": 4,
 "nbformat_minor": 5
}

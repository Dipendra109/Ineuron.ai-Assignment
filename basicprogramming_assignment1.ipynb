{
 "cells": [
  {
   "cell_type": "code",
   "execution_count": 16,
   "id": "0f211258",
   "metadata": {},
   "outputs": [
    {
     "name": "stdout",
     "output_type": "stream",
     "text": [
      "1. Write a Python program to print \"Hello Python\"?\n",
      "Hello Python\n"
     ]
    }
   ],
   "source": [
    "#1. Write a Python program to print \"Hello Python\"?\n",
    "print('1. Write a Python program to print \"Hello Python\"?')\n",
    "print('Hello Python')"
   ]
  },
  {
   "cell_type": "code",
   "execution_count": 17,
   "id": "84e518b6",
   "metadata": {},
   "outputs": [
    {
     "name": "stdout",
     "output_type": "stream",
     "text": [
      "2. Write a Python program to do arithmetical operations addition and division.?\n",
      "Enter first number4\n",
      "Enter second number5\n",
      "Addition of two numbers is  9.0  and  Subtration of two numbers is  -1.0\n"
     ]
    }
   ],
   "source": [
    "#2. Write a Python program to do arithmetical operations addition and division.?\n",
    "print('2. Write a Python program to do arithmetical operations addition and division.?')\n",
    "a=float(input('Enter first number'))\n",
    "b=float(input('Enter second number'))\n",
    "print('Addition of two numbers is ', a+b ,' and ' ,'Subtration of two numbers is ', a-b)"
   ]
  },
  {
   "cell_type": "code",
   "execution_count": 23,
   "id": "2d905b42",
   "metadata": {},
   "outputs": [
    {
     "name": "stdout",
     "output_type": "stream",
     "text": [
      "3. Write a Python program to find the area of a triangle\n",
      "Enter A side  -  3\n",
      "Enter B side  -  3\n",
      "Enter C side  -  3\n",
      "Area of triangle is 3.897114317029974\n"
     ]
    }
   ],
   "source": [
    "#3. Write a Python program to find the area of a triangle\n",
    "print('3. Write a Python program to find the area of a triangle')\n",
    "x1=float(input('Enter A side  -  '))\n",
    "x2=float(input('Enter B side  -  '))\n",
    "x3=float(input('Enter C side  -  '))\n",
    "S=(x1+x2+x3)/2\n",
    "Area=(S*(S-x1)*(S-x2)*(S-x3))**0.5\n",
    "print('Area of triangle is {}'.format(Area))\n"
   ]
  },
  {
   "cell_type": "code",
   "execution_count": 19,
   "id": "0cab4616",
   "metadata": {},
   "outputs": [
    {
     "name": "stdout",
     "output_type": "stream",
     "text": [
      "4. Write a Python program to swap two variables?\n",
      "Enter a number x1 :4\n",
      "Enter a second number x2 :5\n",
      "After swapping x1 : 5.0\n",
      "After swapping x2 : 4.0\n"
     ]
    }
   ],
   "source": [
    "#4. Write a Python program to swap two variables?\n",
    "print('4. Write a Python program to swap two variables?') \n",
    "x1= float(input('Enter a number x1 :'))\n",
    "x2=float(input('Enter a second number x2 :'))\n",
    "x3=x1\n",
    "x1=x2\n",
    "x2=x3\n",
    "print('After swapping x1 : {}'.format(x1))\n",
    "print('After swapping x2 : {}'.format(x2))\n",
    "\n"
   ]
  },
  {
   "cell_type": "code",
   "execution_count": 15,
   "id": "65fbcc39",
   "metadata": {},
   "outputs": [
    {
     "name": "stdout",
     "output_type": "stream",
     "text": [
      "5. Write a Python program to generate a random number?\n",
      "0.46829172520983775\n"
     ]
    }
   ],
   "source": [
    "#5.\tWrite a Python program to generate a random number?\n",
    "print('5. Write a Python program to generate a random number?')\n",
    "import random \n",
    "num = random.random()\n",
    "print(format(num))"
   ]
  },
  {
   "cell_type": "code",
   "execution_count": null,
   "id": "0f6de12f",
   "metadata": {},
   "outputs": [],
   "source": []
  }
 ],
 "metadata": {
  "kernelspec": {
   "display_name": "Python 3 (ipykernel)",
   "language": "python",
   "name": "python3"
  },
  "language_info": {
   "codemirror_mode": {
    "name": "ipython",
    "version": 3
   },
   "file_extension": ".py",
   "mimetype": "text/x-python",
   "name": "python",
   "nbconvert_exporter": "python",
   "pygments_lexer": "ipython3",
   "version": "3.9.7"
  }
 },
 "nbformat": 4,
 "nbformat_minor": 5
}

{
 "cells": [
  {
   "cell_type": "code",
   "execution_count": 10,
   "id": "3de6d243",
   "metadata": {},
   "outputs": [
    {
     "name": "stdout",
     "output_type": "stream",
     "text": [
      "3. Write a Python Program to Print the Fibonacci sequence Using Recursion?\n",
      "Fibonacci sequence:\n",
      "0\n",
      "1\n",
      "1\n"
     ]
    }
   ],
   "source": [
    "#1. Write a Python Program to Display Fibonacci Sequence Using Recursion?\n",
    "print('3. Write a Python Program to Print the Fibonacci sequence Using Recursion?')\n",
    "\n",
    "def recur_fibo(n):\n",
    "   if n <= 1:\n",
    "       return n\n",
    "   else:\n",
    "       return(recur_fibo(n-1) + recur_fibo(n-2))\n",
    "\n",
    "nterms = 3\n",
    "\n",
    "# check if the number of terms is valid\n",
    "if nterms <= 0:\n",
    "   print(\"Plese enter a positive integer\")\n",
    "else:\n",
    "   print(\"Fibonacci sequence:\")\n",
    "   for i in range(nterms):\n",
    "       print(recur_fibo(i))\n",
    "    "
   ]
  },
  {
   "cell_type": "code",
   "execution_count": 8,
   "id": "8bc606a2",
   "metadata": {},
   "outputs": [
    {
     "name": "stdout",
     "output_type": "stream",
     "text": [
      "2. Write a Python Program to Find Factorial of Number Using Recursion?\n",
      "5\n",
      "4\n",
      "3\n",
      "2\n",
      "The factorial of 5 is 120\n"
     ]
    }
   ],
   "source": [
    "#2. Write a Python Program to Find Factorial of Number Using Recursion?\n",
    "print('2. Write a Python Program to Find Factorial of Number Using Recursion?') \n",
    "def recursion_factorial(n):\n",
    "   if n == 1:\n",
    "       return n\n",
    "   else:\n",
    "       print(n)\n",
    "       return n*recursion_factorial(n-1)\n",
    "\n",
    "num = 5\n",
    "\n",
    "# check if the number is negative\n",
    "if num < 0:\n",
    "   print(\"Sorry, factorial does not exist for negative numbers\")\n",
    "elif num == 0:\n",
    "   print(\"The factorial of 0 is 1\")\n",
    "else:\n",
    "   print(\"The factorial of\", num, \"is\", recursion_factorial(num))"
   ]
  },
  {
   "cell_type": "code",
   "execution_count": 12,
   "id": "387b6e2d",
   "metadata": {},
   "outputs": [
    {
     "name": "stdout",
     "output_type": "stream",
     "text": [
      "3. Write a Python Program to calculate your Body Mass Index?\n",
      "Enter your weight(kg): 96\n",
      "Enter your height(m): 1.78\n",
      "BMI is 30.3\n"
     ]
    }
   ],
   "source": [
    "#3.Write a Python Program to calculate your Body Mass Index?\n",
    "print('3. Write a Python Program to calculate your Body Mass Index?')\n",
    "\n",
    "wt = float(input(\"Enter your weight(kg): \"))\n",
    "ht = float(input(\"Enter your height(m): \"))\n",
    "\n",
    "bmi = wt/(ht ** 2)\n",
    "\n",
    "print('BMI is',round(bmi,2))"
   ]
  },
  {
   "cell_type": "code",
   "execution_count": 19,
   "id": "9fe03215",
   "metadata": {},
   "outputs": [
    {
     "name": "stdout",
     "output_type": "stream",
     "text": [
      "4. Write a Python Program to calculate the natural logarithm of any number?\n",
      "Enter a number for lag calculation 4\n",
      "1.3862943611198906\n"
     ]
    }
   ],
   "source": [
    "#4. Write a Python Program to calculate the natural logarithm of any number?\n",
    "print('4. Write a Python Program to calculate the natural logarithm of any number?')\n",
    "num=float(input('Enter a number for lag calculation '))\n",
    "import math\n",
    "print (math.log(num))"
   ]
  },
  {
   "cell_type": "code",
   "execution_count": 20,
   "id": "5d0b7148",
   "metadata": {},
   "outputs": [
    {
     "name": "stdout",
     "output_type": "stream",
     "text": [
      "5. Write a Python Program for cube sum of first n natural numbers?\n",
      "How many natural numbers you want to calculate sum of cubes of ? 4\n",
      "Cube sum of first 4 natural numbers is  100.0  . \n"
     ]
    }
   ],
   "source": [
    "#5.Write a Python Program for cube sum of first n natural numbers?\n",
    "print('5. Write a Python Program for cube sum of first n natural numbers?')\n",
    "num=int(input('How many natural numbers you want to calculate sum of cubes of ? '))\n",
    "cub_sum_nat= ((num*(num+1))/2)**2  #(n(n+1)/2)^^2\n",
    "print('Cube sum of first' , num , 'natural numbers is ', cub_sum_nat, ' . ')\n"
   ]
  },
  {
   "cell_type": "code",
   "execution_count": null,
   "id": "878ea977",
   "metadata": {},
   "outputs": [],
   "source": []
  },
  {
   "cell_type": "code",
   "execution_count": null,
   "id": "db8b212c",
   "metadata": {},
   "outputs": [],
   "source": []
  }
 ],
 "metadata": {
  "kernelspec": {
   "display_name": "Python 3 (ipykernel)",
   "language": "python",
   "name": "python3"
  },
  "language_info": {
   "codemirror_mode": {
    "name": "ipython",
    "version": 3
   },
   "file_extension": ".py",
   "mimetype": "text/x-python",
   "name": "python",
   "nbconvert_exporter": "python",
   "pygments_lexer": "ipython3",
   "version": "3.9.7"
  }
 },
 "nbformat": 4,
 "nbformat_minor": 5
}

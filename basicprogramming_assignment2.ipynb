{
 "cells": [
  {
   "cell_type": "code",
   "execution_count": 7,
   "id": "f44d980a",
   "metadata": {},
   "outputs": [
    {
     "name": "stdout",
     "output_type": "stream",
     "text": [
      "1. Write a Python program to convert kilometers to miles?\n",
      "Enter a value of distance in KM6\n",
      "Distance converted into Miles is  3.7282271399999996\n"
     ]
    }
   ],
   "source": [
    "#1. Write a Python program to convert kilometers to miles?\n",
    "print('1. Write a Python program to convert kilometers to miles?')\n",
    "dist=float(input('Enter a value of distance in KM'))\n",
    "fac=0.62137119\n",
    "print('Distance converted into Miles is ',format(dist*fac))"
   ]
  },
  {
   "cell_type": "code",
   "execution_count": 8,
   "id": "cfeeb854",
   "metadata": {},
   "outputs": [
    {
     "name": "stdout",
     "output_type": "stream",
     "text": [
      "2. Write a Python program to convert Celsius to Fahrenheit?\n",
      "Enter temperature in degree celsius 34\n",
      "Temperature in fahrenheit is  93.2\n"
     ]
    }
   ],
   "source": [
    "#2. Write a Python program to convert Celsius to Fahrenheit?\n",
    "print('2. Write a Python program to convert Celsius to Fahrenheit?')\n",
    "temp_cel=float(input('Enter temperature in degree celsius '))\n",
    "temp_fah=(9/5)*(temp_cel) +32\n",
    "print('Temperature in fahrenheit is ', format(temp_fah))"
   ]
  },
  {
   "cell_type": "code",
   "execution_count": 9,
   "id": "0a7e4d3e",
   "metadata": {},
   "outputs": [
    {
     "name": "stdout",
     "output_type": "stream",
     "text": [
      "3. Write a Python program to display calendar?\n",
      "Enter year 2023\n",
      "Enter month1\n",
      "    January 2023\n",
      "Mo Tu We Th Fr Sa Su\n",
      "                   1\n",
      " 2  3  4  5  6  7  8\n",
      " 9 10 11 12 13 14 15\n",
      "16 17 18 19 20 21 22\n",
      "23 24 25 26 27 28 29\n",
      "30 31\n",
      "\n"
     ]
    }
   ],
   "source": [
    "#3. Write a Python program to display calendar?\n",
    "print('3. Write a Python program to display calendar?')\n",
    "import calendar\n",
    "year = int(input('Enter year '))\n",
    "month = int(input('Enter month'))\n",
    "print(calendar.month(year, month))"
   ]
  },
  {
   "cell_type": "code",
   "execution_count": 10,
   "id": "80105cc4",
   "metadata": {},
   "outputs": [
    {
     "name": "stdout",
     "output_type": "stream",
     "text": [
      "4. Write a Python program to solve quadratic equation?\n",
      "Structure of quadratic equation Ax^2 +Bx +C\n",
      "Enter A 2\n",
      "Enter B 4\n",
      "Enter C 8\n",
      "The roots are\n",
      "(-1-1.7320508075688772j)\n",
      "(-1+1.7320508075688772j)\n"
     ]
    }
   ],
   "source": [
    "#4. Write a Python program to solve quadratic equation?\n",
    "print('4. Write a Python program to solve quadratic equation?')\n",
    "print('Structure of quadratic equation Ax^2 +Bx +C')\n",
    "import cmath\n",
    "A=float(input('Enter A '))\n",
    "B=float(input('Enter B '))\n",
    "C=float(input('Enter C '))\n",
    "\n",
    "#discriminant\n",
    "discr = (B**2) - (4 * A*C)\n",
    "  \n",
    "# two roots of a quadratic equaiton\n",
    "root1 = (-B-cmath.sqrt(discr))/(2 * A)\n",
    "root2 = (-B + cmath.sqrt(discr))/(2 * A)\n",
    "\n",
    "print('The roots are')\n",
    "print(root1)\n",
    "print(root2)"
   ]
  },
  {
   "cell_type": "code",
   "execution_count": 6,
   "id": "85947e49",
   "metadata": {},
   "outputs": [
    {
     "name": "stdout",
     "output_type": "stream",
     "text": [
      "5. Write a Python program to swap two variables without temp variable?\n",
      "Enter first number 5\n",
      "Enter second number 7\n",
      "Z1 equals  7.0\n",
      "Z2 equals  5.0\n"
     ]
    }
   ],
   "source": [
    "#5. Write a Python program to swap two variables without temp variable?\n",
    "print('5. Write a Python program to swap two variables without temp variable?') \n",
    "Z1=float(input('Enter first number '))\n",
    "Z2=float(input('Enter second number '))\n",
    "Z1,Z2=Z2,Z1\n",
    "print('Z1 equals ',Z1)\n",
    "print('Z2 equals ',Z2)"
   ]
  },
  {
   "cell_type": "code",
   "execution_count": null,
   "id": "6535e4c1",
   "metadata": {},
   "outputs": [],
   "source": []
  }
 ],
 "metadata": {
  "kernelspec": {
   "display_name": "Python 3 (ipykernel)",
   "language": "python",
   "name": "python3"
  },
  "language_info": {
   "codemirror_mode": {
    "name": "ipython",
    "version": 3
   },
   "file_extension": ".py",
   "mimetype": "text/x-python",
   "name": "python",
   "nbconvert_exporter": "python",
   "pygments_lexer": "ipython3",
   "version": "3.9.7"
  }
 },
 "nbformat": 4,
 "nbformat_minor": 5
}

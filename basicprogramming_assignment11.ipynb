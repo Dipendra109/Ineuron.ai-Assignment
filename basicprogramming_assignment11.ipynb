{
 "cells": [
  {
   "cell_type": "code",
   "execution_count": null,
   "id": "5a99d414",
   "metadata": {},
   "outputs": [],
   "source": [
    "1. Write a Python program to find words which are greater than given length k?\n",
    "2. Write a Python program for removing i-th character from a string?\n",
    "3. Write a Python program to split and join a string?\n",
    "4. Write a Python to check if a given string is binary string or not?\n",
    "5. Write a Python program to find uncommon words from two Strings?\n",
    "6. Write a Python to find all duplicate characters in string?\n",
    "7. Write a Python Program to check if a string contains any special character?"
   ]
  },
  {
   "cell_type": "code",
   "execution_count": 1,
   "id": "8dfdba8c",
   "metadata": {},
   "outputs": [
    {
     "name": "stdout",
     "output_type": "stream",
     "text": [
      "1. Write a Python program to find words which are greater than given length k?\n",
      "What number of elements in list? 5\n",
      "add a word in list: dkcs\n",
      "add a word in list: sdgf\n",
      "add a word in list: ear\n",
      "add a word in list: gfrnhrth\n",
      "add a word in list: asdf\n",
      "User input list is :  \n",
      " ['dkcs', 'sdgf', 'ear', 'gfrnhrth', 'asdf']\n",
      "['gfrnhrth']\n"
     ]
    }
   ],
   "source": [
    "#1. Write a Python program to find words which are greater than given length k?\n",
    "print('1. Write a Python program to find words which are greater than given length k?') \n",
    "itm=int(input('What number of elements in list? ')) #asking user to provide length of list\n",
    "lst=[]   # empty list\n",
    "for n in range(itm):\n",
    "    lst.append(str(input('add a word in list: '))) #asking user to fill list numbers. \n",
    "print('User input list is : ', '\\n' , lst) #printing\n",
    "chk_len=4\n",
    "nu_lst =[]\n",
    "for i in lst:\n",
    "    if len(i)>chk_len:\n",
    "        nu_lst.append(i)\n",
    "        \n",
    "print(nu_lst)\n",
    "        "
   ]
  },
  {
   "cell_type": "code",
   "execution_count": 6,
   "id": "d908d86b",
   "metadata": {},
   "outputs": [
    {
     "name": "stdout",
     "output_type": "stream",
     "text": [
      "2. Write a Python program for removing i-th character from a string?\n",
      "Enter a string: dipendra kumar choudahry \n",
      "Enter  which chacrter number you want to remove: 4\n",
      "dipedra kumar choudahry  is the string after removing charater\n"
     ]
    }
   ],
   "source": [
    "#2. Write a Python program for removing i-th character from a string?\n",
    "print('2. Write a Python program for removing i-th character from a string?') \n",
    "user_string=str(input('Enter a string: '))\n",
    "i_char=int(input('Enter  which chacrter number you want to remove: '))\n",
    "lnth=len(user_string)\n",
    "#print(lnth)\n",
    "#print(user_string[i_char]\n",
    "a_new=user_string.replace(user_string[i_char],'',1)  # only removing first occurence of ith character\n",
    "print( a_new,  'is the string after removing charater')"
   ]
  },
  {
   "cell_type": "code",
   "execution_count": 8,
   "id": "ef12e615",
   "metadata": {},
   "outputs": [
    {
     "name": "stdout",
     "output_type": "stream",
     "text": [
      "3. Write a Python program to split and join a string?\n",
      "Enter a string: dipendra kumar choudhary \n",
      "From where you want to split stringu\n",
      "['dipendra k', 'mar cho', 'dhary '] After Split.\n",
      "dipendra kJmar choJdhary  After Join. \n"
     ]
    }
   ],
   "source": [
    "#3. Write a Python program to split and join a string?\n",
    "print('3. Write a Python program to split and join a string?')\n",
    "user_string=str(input('Enter a string: '))\n",
    "user_split=input('From where you want to split string ')\n",
    "#print(type(a))\n",
    "a_new1=user_string.split(user_split)\n",
    "print(str(a_new1),'After Split.')\n",
    "#print(type(a_new1))\n",
    "a_new2='J'.join(a_new1) #putting J for connect\n",
    "print(a_new2, 'After Join. ')\n",
    "#print(type(a_new2))"
   ]
  },
  {
   "cell_type": "code",
   "execution_count": 16,
   "id": "f626a4a0",
   "metadata": {},
   "outputs": [
    {
     "name": "stdout",
     "output_type": "stream",
     "text": [
      "4. Write a Python to check if a given string is binary string or not?\n",
      "Enter a String: 010101010\n",
      "010101010  String is binary\n"
     ]
    }
   ],
   "source": [
    "#4. Write a Python to check if a given string is binary string or not?\n",
    "print('4. Write a Python to check if a given string is binary string or not?') \n",
    "bin_chk='01'\n",
    "user_string= str(input('Enter a String: '))\n",
    "chk=1\n",
    "for i in user_string:\n",
    "        if i not in bin_chk:\n",
    "            chk=0\n",
    "            break\n",
    "        else:\n",
    "            pass\n",
    "if chk == 0:\n",
    "    print(user_string,' String is not binary')\n",
    "else:\n",
    "    print(user_string,' String is binary')"
   ]
  },
  {
   "cell_type": "code",
   "execution_count": 7,
   "id": "fa54e6ac",
   "metadata": {},
   "outputs": [
    {
     "name": "stdout",
     "output_type": "stream",
     "text": [
      "5. Write a Python program to find uncommon words from two Strings?\n",
      "Enter first string: dipendra kumar choudahry \n",
      "Enter second string: kajal kumar asd\n",
      "common string is  dipendra kumar choudahry  kajal kumar asd\n",
      "kumar\n",
      "List with uncommon words is:  ['dipendra', 'choudahry', 'kajal', 'asd']\n"
     ]
    }
   ],
   "source": [
    "#5. Write a Python program to find uncommon words from two Strings?\n",
    "print('5. Write a Python program to find uncommon words from two Strings?')\n",
    "str_1=str(input('Enter first string: ')) #user input first string\n",
    "str_2=str(input('Enter second string: '))  #user input seconds string\n",
    "com_wrds= '' #empty string\n",
    "for itm1 in str_1.split():\n",
    "    for itm2 in str_2.split() :\n",
    "        if itm1==itm2:\n",
    "            com_wrds=com_wrds+' '+itm1\n",
    "            #print(type(com_wrds))\n",
    "if com_wrds == '':\n",
    "    print('There are no common words')\n",
    "else:\n",
    "    com_string=str_1+' '+str_2\n",
    "    print('common string is ', com_string)\n",
    "    for i in com_wrds.split():\n",
    "        print(i)\n",
    "        new_string=com_string.replace(i,'')\n",
    "    #print(new_string)\n",
    "print('List with uncommon words is: ', new_string.split())"
   ]
  },
  {
   "cell_type": "code",
   "execution_count": 8,
   "id": "06d6c3da",
   "metadata": {},
   "outputs": [
    {
     "name": "stdout",
     "output_type": "stream",
     "text": [
      "Write a Python to find all duplicate characters in string?\n",
      "Enter a stringdipendra kumar choudahry \n",
      "List of duplicate characters is  \n",
      " ['d', 'r', 'a', ' ', 'u', 'h']\n"
     ]
    }
   ],
   "source": [
    "#6. Write a Python to find all duplicate characters in string?\n",
    "print('Write a Python to find all duplicate characters in string?')\n",
    "string_user= str(input('Enter a string')) #asking user to enter a string\n",
    "char_dup =[]   #creating an empty list to store characters which are duplicate\n",
    "A=list(string_user) #converting string into a list\n",
    "p=1   # condition to modify iteration of for loop.\n",
    "for i in range(len(A)):  #running for loop for left most side of a list\n",
    "    for k in range(p,len(A)):  #comparing left most charcter of a string to remaining characters of string\n",
    "        #print(A[i], '& ', A[k])  #takin gprint commands ofr making checks.\n",
    "        if A[i]==A[k] and char_dup.count(A[i]) < 1:  #condition if charcters is found multiple times and occurence in list is not more than 1\n",
    "            #print(i, '& ' , k)\n",
    "            #print\n",
    "            #print(A[i])#printint charater which is occuring multip etimes\n",
    "            char_dup.append(A[i]) #appenidng character to an empty list\n",
    "    p=p+1  #increasing start interation point foseocnd for loop. since comaprison will be made with remaining charcters of a string in comaprison to iteration character of first for loop \n",
    "print('List of duplicate characters is ' , '\\n', char_dup) #printing list of duplicate characters\n",
    "            \n",
    "\n"
   ]
  },
  {
   "cell_type": "code",
   "execution_count": 3,
   "id": "f266c228",
   "metadata": {},
   "outputs": [
    {
     "name": "stdout",
     "output_type": "stream",
     "text": [
      "7. Write a Python Program to check if a string contains any special character?\n",
      "Enter a stringdipenadr13445#$ cksahfd  weiorhw(*(${}} choudhar ^^ ry \n",
      "Numer of special character in string is:  11\n"
     ]
    }
   ],
   "source": [
    "#7. Write a Python Program to check if a string contains any special character?\n",
    "print('7. Write a Python Program to check if a string contains any special character?')\n",
    "user_string=str(input('Enter a string'))\n",
    "count=0\n",
    "#spce is not special chacarter . So removing them before itering string. \n",
    "num_char=len(user_string.replace(' ','')) #checking length of string after removing spaces.\n",
    "for i in user_string.replace(' ',''):\n",
    "    if i.isdigit()== True or i.isalpha()==True: #checkig ofr numeric and alphabets. \n",
    "        count=count+1\n",
    "# subtracting alpha and numeric chacrters from string to get special character. \n",
    "print('Numer of special character in string is: ', num_char-count)\n"
   ]
  },
  {
   "cell_type": "code",
   "execution_count": null,
   "id": "61e85511",
   "metadata": {},
   "outputs": [],
   "source": []
  }
 ],
 "metadata": {
  "kernelspec": {
   "display_name": "Python 3 (ipykernel)",
   "language": "python",
   "name": "python3"
  },
  "language_info": {
   "codemirror_mode": {
    "name": "ipython",
    "version": 3
   },
   "file_extension": ".py",
   "mimetype": "text/x-python",
   "name": "python",
   "nbconvert_exporter": "python",
   "pygments_lexer": "ipython3",
   "version": "3.9.7"
  }
 },
 "nbformat": 4,
 "nbformat_minor": 5
}

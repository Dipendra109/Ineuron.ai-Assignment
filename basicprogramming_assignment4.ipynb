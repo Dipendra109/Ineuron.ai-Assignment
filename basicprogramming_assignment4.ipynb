{
 "cells": [
  {
   "cell_type": "code",
   "execution_count": null,
   "id": "14418c11",
   "metadata": {},
   "outputs": [],
   "source": [
    "#1. Write a Python Program to Find the Factorial of a Number?\n",
    "print('1. Write a Python Program to Find the Factorial of a Number?')\n",
    "num=int(input('Enter a integer: '))\n",
    "a=num\n",
    "#checking if -ve number is  is input. \n",
    "if num < 0:\n",
    "    print('Negative integer. Enter positive integer.')\n",
    "#checing if 0 or 1 is input     \n",
    "elif num ==0 or num==1 :\n",
    "    print('Factorial of', num, 'is 1.')    \n",
    "else:\n",
    "    #condition\n",
    "    factorial=1\n",
    "    while 1 < num :\n",
    "        factorial= factorial*num\n",
    "        num=num-1 #reducing num value by 1 becase factorial for example for 4 is 4*(4-1)*(3-1)*(2-1)\n",
    "    print( factorial, 'is factorial of',a )\n",
    "        "
   ]
  },
  {
   "cell_type": "code",
   "execution_count": 4,
   "id": "4e932463",
   "metadata": {},
   "outputs": [
    {
     "name": "stdout",
     "output_type": "stream",
     "text": [
      "2. Write a Python Program to Display the multiplication Table?\n",
      "Enter what integer table you want 5\n",
      "Enter upto which integer length you want table 6\n",
      "Multiplication Table: \n",
      "5  X  1 =  5\n",
      "5  X  2 =  10\n",
      "5  X  3 =  15\n",
      "5  X  4 =  20\n",
      "5  X  5 =  25\n",
      "5  X  6 =  30\n"
     ]
    }
   ],
   "source": [
    "#2. Write a Python Program to Display the multiplication Table?\n",
    "print('2. Write a Python Program to Display the multiplication Table?')\n",
    "\n",
    "tab_num=int(input('Enter what integer table you want '))\n",
    "len_table = int(input('Enter upto which integer length you want table '))\n",
    "\n",
    "print('Multiplication Table: ') \n",
    "\n",
    "for i in range(1,len_table+1): \n",
    "        num_mult=tab_num*i  #table multiplication of numbers\n",
    "        print(tab_num , ' X ' , i , '= ',num_mult)  #printing table\n",
    "        \n",
    "    "
   ]
  },
  {
   "cell_type": "code",
   "execution_count": null,
   "id": "332c48da",
   "metadata": {},
   "outputs": [],
   "source": [
    "#3. Write a Python Program to Print the Fibonacci sequence?\n",
    "print('3. Write a Python Program to Print the Fibonacci sequence?')\n",
    "\n",
    "len_fibo= int(input('Enter length of fibonacci series. Enter positive number ')\n",
    "a = 0\n",
    "print(a)\n",
    "num1=0\n",
    "num2=1        \n",
    "while a < len_fibo :\n",
    "              if a <=1:\n",
    "              fibo_num=n \n",
    "              else :\n",
    "              fibo_num=num1+num2\n",
    "              num1=num2\n",
    "              num2=fibo_num\n",
    "            print(fibo_num)\n",
    "              a=a+1\n",
    "            \n",
    "            "
   ]
  },
  {
   "cell_type": "code",
   "execution_count": null,
   "id": "764a9de3",
   "metadata": {},
   "outputs": [],
   "source": [
    "#4.Write a Python Program to Check Armstrong Number?\n",
    "print('4. Write a Python Program to Check Armstrong Number?')\n",
    "num=int(input('Enter an integer to check if it is armstrong '))\n",
    "if num < 0 :\n",
    "    print('You typed a wrong number. Positive intger is required.')\n",
    "else :\n",
    "    k=0\n",
    "    for i in str(num):\n",
    "        i=int(i)\n",
    "        k=k+i*i*i\n",
    "        #print(k)\n",
    "        #print(type(k))\n",
    "        #print(n)\n",
    "        #print(type(n))\n",
    "    if int(k)== int(num):\n",
    "        print(num, ' is an Armstrong number.')\n",
    "    else:\n",
    "        print(num, ' is not armstrong number.')\n",
    "    "
   ]
  },
  {
   "cell_type": "code",
   "execution_count": null,
   "id": "d1bf025f",
   "metadata": {},
   "outputs": [],
   "source": [
    "#5. Write a Python Program to Find Armstrong Number in an Interval?\n",
    "print('5. Write a Python Program to Find Armstrong Number in an Interval?') \n",
    "num1=int(input('Enter lower limit of interval '))\n",
    "num2=int(input('Enter upper limit of interval '))\n",
    "if num1 < 0 or num2 < 0 :\n",
    "    print('You typed a wrong number. Positive integer is required.')\n",
    "\n",
    "else :\n",
    "    for num in range(num1,num2+1,1):\n",
    "        k=0\n",
    "        for i in str(num):\n",
    "            i=int(i)\n",
    "            k=k+i*i*i\n",
    "            #print(k)\n",
    "            #print(type(k))\n",
    "            #print(n)\n",
    "            #print(type(n))\n",
    "        if int(k)== int(num):\n",
    "            print(num, ' is an Armstrong number.')\n",
    "        else:\n",
    "            print(num, ' is not armstrong number.')"
   ]
  },
  {
   "cell_type": "code",
   "execution_count": null,
   "id": "a8803e14",
   "metadata": {},
   "outputs": [],
   "source": [
    "#6. Write a Python Program to Find the Sum of Natural Numbers?\n",
    "print('6. Write a Python Program to Find the Sum of Natural Numbers?')\n",
    "num= int(input('Enter a natural number'))\n",
    "if num < 0 :\n",
    "    print('Please enter positive number')\n",
    "else:\n",
    "    k=0\n",
    "    while num>0:\n",
    "        k=num+k\n",
    "        num=num-1    \n",
    "    print(k)    \n",
    "    \n"
   ]
  },
  {
   "cell_type": "code",
   "execution_count": null,
   "id": "ad3175a5",
   "metadata": {},
   "outputs": [],
   "source": []
  },
  {
   "cell_type": "code",
   "execution_count": null,
   "id": "4da216c0",
   "metadata": {},
   "outputs": [],
   "source": []
  }
 ],
 "metadata": {
  "kernelspec": {
   "display_name": "Python 3 (ipykernel)",
   "language": "python",
   "name": "python3"
  },
  "language_info": {
   "codemirror_mode": {
    "name": "ipython",
    "version": 3
   },
   "file_extension": ".py",
   "mimetype": "text/x-python",
   "name": "python",
   "nbconvert_exporter": "python",
   "pygments_lexer": "ipython3",
   "version": "3.9.7"
  }
 },
 "nbformat": 4,
 "nbformat_minor": 5
}
